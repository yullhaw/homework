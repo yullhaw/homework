{
 "cells": [
  {
   "cell_type": "markdown",
   "id": "14905d66",
   "metadata": {},
   "source": [
    "Високосный год \n",
    "1. Делится на 4 нацело, то есть без остатка\n",
    "2. Не делится без остатка на 100 или делится без остатка не 400"
   ]
  },
  {
   "cell_type": "code",
   "execution_count": 44,
   "id": "8487ab6c",
   "metadata": {},
   "outputs": [
    {
     "name": "stdout",
     "output_type": "stream",
     "text": [
      "-404\n",
      "Високосный год\n"
     ]
    }
   ],
   "source": [
    "#Сначала проверка делится ли год на 4, если не делится, то год сразу не високосный\n",
    "year = int(input())\n",
    "if year % 4 != 0: \n",
    "    print(\"Обычный год\")\n",
    "elif  year % 100 != 0 or year % 400 == 0: \n",
    "    print('Високосный год')\n",
    "else:\n",
    "    print(\"Обычный год\")"
   ]
  },
  {
   "cell_type": "code",
   "execution_count": 43,
   "id": "d3d0895e",
   "metadata": {},
   "outputs": [
    {
     "name": "stdout",
     "output_type": "stream",
     "text": [
      "-400\n",
      "Високосный год\n"
     ]
    }
   ],
   "source": [
    "#проверка и делится ли год на 4 и не делится ли на 100 или делится на 400 без остатка\n",
    "year = int(input())\n",
    "if year % 4 == 0 and year % 100 != 0 or year % 400 == 0: \n",
    "    print('Високосный год')\n",
    "else:\n",
    "    print(\"Обычный год\")"
   ]
  },
  {
   "cell_type": "code",
   "execution_count": null,
   "id": "30dfef96",
   "metadata": {},
   "outputs": [],
   "source": []
  }
 ],
 "metadata": {
  "kernelspec": {
   "display_name": "Python 3 (ipykernel)",
   "language": "python",
   "name": "python3"
  },
  "language_info": {
   "codemirror_mode": {
    "name": "ipython",
    "version": 3
   },
   "file_extension": ".py",
   "mimetype": "text/x-python",
   "name": "python",
   "nbconvert_exporter": "python",
   "pygments_lexer": "ipython3",
   "version": "3.9.12"
  }
 },
 "nbformat": 4,
 "nbformat_minor": 5
}
