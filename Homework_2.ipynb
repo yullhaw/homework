{
 "cells": [
  {
   "cell_type": "markdown",
   "id": "2f88c82a",
   "metadata": {},
   "source": [
    "Задание 1\n",
    "Написать код на Python в среде Jupyter Notebook для решения следующей задачи.\n",
    "\n",
    "Дана переменная, в которой хранится слово из латинских букв. Напишите код, который выводит на экран:\n",
    "\n",
    "среднюю букву, если число букв в слове нечётное;\n",
    "две средних буквы, если число букв чётное.\n",
    "Пример работы программы:\n",
    "1. word = 'test' Результат: es \n",
    "2. word = 'testing' Результат: t"
   ]
  },
  {
   "cell_type": "code",
   "execution_count": 56,
   "id": "61b05f92",
   "metadata": {},
   "outputs": [
    {
     "name": "stdout",
     "output_type": "stream",
     "text": [
      "t\n"
     ]
    }
   ],
   "source": [
    "world = \"testing\"\n",
    "len_world = len(world)\n",
    "if len_world %2 == 0:\n",
    "    left_num = len_world //2-1\n",
    "    right_num = len_world //2\n",
    "    print(f\"{world[left_num]}{world[right_num]}\")\n",
    "else:\n",
    "    center_num = len_world //2\n",
    "    print(world[center_num])"
   ]
  },
  {
   "cell_type": "code",
   "execution_count": 57,
   "id": "14318642",
   "metadata": {},
   "outputs": [
    {
     "name": "stdout",
     "output_type": "stream",
     "text": [
      "es\n"
     ]
    }
   ],
   "source": [
    "world = \"test\"\n",
    "len_world = len(world)\n",
    "if len_world %2 == 0:\n",
    "    left_num = len_world //2-1\n",
    "    right_num = len_world //2\n",
    "    print(f\"{world[left_num]}{world[right_num]}\")\n",
    "else:\n",
    "    center_num = len_world //2\n",
    "    print(world[center_num])"
   ]
  },
  {
   "cell_type": "markdown",
   "id": "632a2483",
   "metadata": {},
   "source": [
    "\n",
    "У вас есть список юношей и девушек.\n",
    "Выдвигаем гипотезу: лучшие рекомендации получатся, если просто отсортировать имена по алфавиту и познакомить людей с одинаковыми индексами после сортировки. Но вы не будете никого знакомить, если кто-то может остаться без пары.\n",
    "\n",
    "Примеры работы программы:\n",
    "\n",
    "\n",
    "Задание 2.\n",
    "При следующих входных данных:\n",
    "boys = [‘Peter’, ‘Alex’, ‘John’, ‘Arthur’, ‘Richard’]\n",
    "girls = [‘Kate’, ‘Liza’, ‘Kira’, ‘Emma’, ‘Trisha’]\n",
    "Выводится на экран:\n",
    "Идеальные пары:\n",
    "Alex и Emma\n",
    "Arthur и Kate\n",
    "John и Kira\n",
    "Peter и Liza\n",
    "Richard и Trisha\n",
    "\n",
    "При следующих входных данных:\n",
    "boys = [‘Peter’, ‘Alex’, ‘John’, ‘Arthur’, ‘Richard’, ‘Michael’]\n",
    "girls = [‘Kate’, ‘Liza’, ‘Kira’, ‘Emma’, ‘Trisha’]\n",
    "Выводится на экран:\n",
    "Внимание, кто-то может остаться без пары!"
   ]
  },
  {
   "cell_type": "code",
   "execution_count": 94,
   "id": "85d34eca",
   "metadata": {},
   "outputs": [
    {
     "name": "stdout",
     "output_type": "stream",
     "text": [
      "Идеальная пара  Alex и Emma\n",
      "Идеальная пара  Arthur и Kate\n",
      "Идеальная пара  John и Kira\n",
      "Идеальная пара  Peter и Liza\n",
      "Идеальная пара  Richard и Trisha\n"
     ]
    }
   ],
   "source": [
    "boys = ['Peter', 'Alex', 'John', 'Arthur', 'Richard']\n",
    "girls = ['Kate', 'Liza', 'Kira', 'Emma', 'Trisha']\n",
    "if len(boys) == len(girls): # проверка что у всех есть пара\n",
    "    boys.sort() \n",
    "    girls.sort()\n",
    "    k = 0 # для счётчика в цикле для подстановке индексов \n",
    "    for i in range(len(boys)):\n",
    "        couple = (f\" {boys [k]} и { girls[k]}\") # соединение людей с одинаковыми индексами\n",
    "        k +=1\n",
    "        print(f\"Идеальная пара {couple}\")\n",
    "else:\n",
    "     print(\"Внимание, кто-то может остаться без пары!\")"
   ]
  },
  {
   "cell_type": "code",
   "execution_count": 95,
   "id": "a014c8ab",
   "metadata": {},
   "outputs": [
    {
     "name": "stdout",
     "output_type": "stream",
     "text": [
      "Внимание, кто-то может остаться без пары!\n"
     ]
    }
   ],
   "source": [
    "boys = ['Peter', 'Alex', 'John', 'Arthur', 'Richard','Michael', 'Richard']\n",
    "girls = ['Kate', 'Liza', 'Kira', 'Emma', 'Trisha']\n",
    "if len(boys) == len(girls): # проверка что у всех есть пара\n",
    "    boys.sort() \n",
    "    girls.sort()\n",
    "    k = 0 # для счётчика в цикле для подстановке индексов \n",
    "    for i in range(len(boys)):\n",
    "        couple = (f\" {boys [k]} и { girls[k]}\") # соединение людей с одинаковыми индексами\n",
    "        k +=1\n",
    "        print(f\"Идеальная пара {couple}\")\n",
    "else:\n",
    "     print(\"Внимание, кто-то может остаться без пары!\")"
   ]
  },
  {
   "cell_type": "code",
   "execution_count": null,
   "id": "127f365d",
   "metadata": {},
   "outputs": [],
   "source": []
  }
 ],
 "metadata": {
  "kernelspec": {
   "display_name": "Python 3 (ipykernel)",
   "language": "python",
   "name": "python3"
  },
  "language_info": {
   "codemirror_mode": {
    "name": "ipython",
    "version": 3
   },
   "file_extension": ".py",
   "mimetype": "text/x-python",
   "name": "python",
   "nbconvert_exporter": "python",
   "pygments_lexer": "ipython3",
   "version": "3.9.12"
  }
 },
 "nbformat": 4,
 "nbformat_minor": 5
}
