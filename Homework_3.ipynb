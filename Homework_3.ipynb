{
 "cells": [
  {
   "cell_type": "markdown",
   "id": "caa77a6b",
   "metadata": {},
   "source": [
    "Дана переменная, в которой хранится словарь, содержащий гео-метки для каждого пользователя (пример структуры данных приведен ниже). Вам необходимо написать программу, которая выведет на экран множество уникальных гео-меток всех пользователей.\n",
    "\n",
    "Пример работы программы:\n",
    "\n",
    "ids = {'user1': [213, 213, 213, 15, 213], \n",
    "       'user2': [54, 54, 119, 119, 119], \n",
    "       'user3': [213, 98, 98, 35]}\n",
    "Результат: {98, 35, 15, 213, 54, 119}"
   ]
  },
  {
   "cell_type": "code",
   "execution_count": 11,
   "id": "482c0229",
   "metadata": {},
   "outputs": [
    {
     "name": "stdout",
     "output_type": "stream",
     "text": [
      "{98, 35, 15, 213, 54, 119, 63}\n"
     ]
    }
   ],
   "source": [
    "ids = {'user1': [213, 213, 213, 15, 213], \n",
    "       'user2': [54, 54, 119, 119, 119], \n",
    "       'user3': [213, 98, 98, 35]}\n",
    "\n",
    "one_list = []\n",
    "for value in ids.values():  # выбор значений без ключей\n",
    "    one_list += value    # запись всех значений списка в один список\n",
    "unic_ids = set(one_list)  # преобразование во множество, так как множество сожержит уникальные значения\n",
    "print(unic_ids)"
   ]
  },
  {
   "cell_type": "markdown",
   "id": "90ea94f2",
   "metadata": {},
   "source": [
    "Дана переменная, в которой хранится список поисковых запросов пользователя (пример структуры данных приведен ниже). Вам необходимо написать программу, которая выведет на экран распределение количества слов в запросах в требуемом виде.\n",
    "\n",
    "Пример работы программы:\n",
    "\n",
    "queries = [\n",
    "    'смотреть сериалы онлайн',\n",
    "    'новости спорта',\n",
    "    'афиша кино',\n",
    "    'курс доллара',\n",
    "    'сериалы этим летом',\n",
    "    'курс по питону',\n",
    "    'сериалы про спорт',\n",
    "]\n",
    "Результат:\n",
    "\n",
    "Поисковых запросов, содержащих 2 слов(а): 42.86%\n",
    "Поисковых запросов, содержащих 3 слов(а): 57.14%"
   ]
  },
  {
   "cell_type": "code",
   "execution_count": 34,
   "id": "335e2959",
   "metadata": {},
   "outputs": [
    {
     "name": "stdout",
     "output_type": "stream",
     "text": [
      "Поисковых запросов из одного слова: 0.0 %\n",
      "Поисковых запросов из двух слов: 42.86 %\n",
      "Поисковых запросов из трех и более слов: 57.14 %\n"
     ]
    }
   ],
   "source": [
    "queries = [\n",
    "    'смотреть сериалы онлайн',\n",
    "    'новости спорта',\n",
    "    'афиша кино',\n",
    "    'курс доллара',\n",
    "    'сериалы этим летом',\n",
    "    'курс по питону',\n",
    "    'сериалы про спорт',]\n",
    "\n",
    "one_word = 0\n",
    "two_words = 0\n",
    "three_and_more_words = 0\n",
    "\n",
    "for words_qnty in queries:\n",
    "    if len(words_qnty.split()) == 1:\n",
    "        one_word += 1\n",
    "    elif len(words_qnty.split()) == 2:\n",
    "        two_words += 1\n",
    "    else:\n",
    "        three_and_more_words += 1\n",
    "\n",
    "total_summ = one_word + two_words + three_and_more_words\n",
    "      \n",
    "print('Поисковых запросов из одного слова:', round((one_word / total_summ)*100, 2), '%')\n",
    "print('Поисковых запросов из двух слов:', round((two_words / total_summ)*100, 2), '%')\n",
    "print('Поисковых запросов из трех и более слов:', round((three_and_more_words / total_summ)*100, 2), '%')"
   ]
  },
  {
   "cell_type": "code",
   "execution_count": 1,
   "id": "972f7b11",
   "metadata": {},
   "outputs": [
    {
     "name": "stdout",
     "output_type": "stream",
     "text": [
      "Поисковых запросов содержащих 1 слов(а): 11.11% (1 запр.)\n",
      "Поисковых запросов содержащих 2 слов(а): 33.33% (3 запр.)\n",
      "Поисковых запросов содержащих 3 слов(а): 44.44% (4 запр.)\n",
      "Поисковых запросов содержащих 8 слов(а): 11.11% (1 запр.)\n"
     ]
    }
   ],
   "source": [
    "queries = ['кот',\n",
    "    'смотреть сериалы онлайн',\n",
    "    'новости спорта',\n",
    "    'афиша кино',\n",
    "    'курс доллара',\n",
    "    'сериалы этим летом',\n",
    "    'курс по питону',\n",
    "    'сериалы про спорт',\n",
    "    'сериалы про спорт b ghj rjnjd b ghj ',       \n",
    "    ]\n",
    "\n",
    "storage = {}\n",
    "\n",
    "for query in queries:\n",
    "    words = query.split() #разбиение списка на подсписки\n",
    "    if len(words) in storage.keys():\n",
    "        storage[len(words)] += 1 #если длина строки есть в ключе из словаря к значению при этом ключе добавляется 1\n",
    "    else: #если  длины строки нет в словаре, то записываем новый ключ равный длине строки и присваиваем ему значение 1\n",
    "        storage.update({\n",
    "            len(words): 1\n",
    "        }) #\n",
    "storage = dict(sorted(storage.items())) #сортировка словаря, надо ещё раз писать dict так как после сортировки словарь становится кортежем\n",
    "for key, value in storage.items():\n",
    "    percentage = round((value / len(queries)) * 100, 2)  #расчёт процента с округлением\n",
    "    print(f'Поисковых запросов содержащих {key} слов(а): {percentage}% ({value} запр.)')"
   ]
  },
  {
   "cell_type": "code",
   "execution_count": null,
   "id": "c10a6b6b",
   "metadata": {},
   "outputs": [],
   "source": []
  },
  {
   "cell_type": "code",
   "execution_count": null,
   "id": "0215593f",
   "metadata": {},
   "outputs": [],
   "source": [
    "\n"
   ]
  },
  {
   "cell_type": "code",
   "execution_count": null,
   "id": "b635b013",
   "metadata": {},
   "outputs": [],
   "source": []
  },
  {
   "cell_type": "code",
   "execution_count": null,
   "id": "da18a9a5",
   "metadata": {},
   "outputs": [],
   "source": []
  }
 ],
 "metadata": {
  "kernelspec": {
   "display_name": "Python 3 (ipykernel)",
   "language": "python",
   "name": "python3"
  },
  "language_info": {
   "codemirror_mode": {
    "name": "ipython",
    "version": 3
   },
   "file_extension": ".py",
   "mimetype": "text/x-python",
   "name": "python",
   "nbconvert_exporter": "python",
   "pygments_lexer": "ipython3",
   "version": "3.9.12"
  }
 },
 "nbformat": 4,
 "nbformat_minor": 5
}
