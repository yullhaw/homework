{
 "cells": [
  {
   "cell_type": "markdown",
   "id": "9decae28",
   "metadata": {},
   "source": [
    "# Контрольное задание Кожевниковой Юлии "
   ]
  },
  {
   "cell_type": "markdown",
   "id": "067ba47b",
   "metadata": {},
   "source": [
    "## Задание 1\n",
    "\n",
    "Дана переменная, в которой хранится информация о затратах и доходе рекламных кампаний по различным источникам. Необходимо дополнить исходную структуру показателем ROI, который рассчитаем по формуле: (revenue / cost - 1) * 100. Отсортируйте результат по убыванию рассчитанного показателя ROI.\n",
    "\n",
    "Пример работы программы:\n",
    "\n",
    "results = { 'vk': {'revenue': 103, 'cost': 98}, 'yandex': {'revenue': 179, 'cost': 153}, 'facebook': {'revenue': 103, 'cost': 110}, 'adwords': {'revenue': 35, 'cost': 34}, 'twitter': {'revenue': 11, 'cost': 24}, } Результат:\n",
    "\n",
    "{'yandex': {'ROI': 16.99, 'cost': 153, 'revenue': 179}, 'vk': {'ROI': 5.1, 'cost': 98, 'revenue': 103}, 'adwords': {'ROI': 2.94, 'cost': 34, 'revenue': 35}, 'facebook': {'ROI': -6.36, 'cost': 110, 'revenue': 103}, 'twitter': {'ROI': -54.17, 'cost': 24, 'revenue': 11} } "
   ]
  },
  {
   "cell_type": "code",
   "execution_count": 1,
   "id": "4da2c0ff",
   "metadata": {},
   "outputs": [
    {
     "name": "stdout",
     "output_type": "stream",
     "text": [
      "{'yandex': {'revenue': 179, 'cost': 153, 'ROI': 16.99}, 'vk': {'revenue': 103, 'cost': 98, 'ROI': 5.1}, 'adwords': {'revenue': 35, 'cost': 34, 'ROI': 2.94}, 'facebook': {'revenue': 103, 'cost': 110, 'ROI': -6.36}, 'twitter': {'revenue': 11, 'cost': 24, 'ROI': -54.17}}\n"
     ]
    }
   ],
   "source": [
    "results = { 'vk': {'revenue': 103, 'cost': 98}, \n",
    "           'yandex': {'revenue': 179, 'cost': 153},\n",
    "           'facebook': {'revenue': 103, 'cost': 110},\n",
    "           'adwords': {'revenue': 35, 'cost': 34},\n",
    "           'twitter': {'revenue': 11, 'cost': 24}, }\n",
    "for value in results.values():\n",
    "    roi =((value['revenue'] / value['cost'] - 1) * 100)  #расчёт roi=(revenue / cost - 1) * 100\n",
    "    roi = f'{roi:0.2f}' # округление до 2 знака\n",
    "    value['ROI'] = float(roi) #перевод строки в число \n",
    "print(dict(sorted(results.items(), key=lambda x: -x[1]['ROI'])))"
   ]
  },
  {
   "cell_type": "markdown",
   "id": "4bc63d10",
   "metadata": {},
   "source": [
    "## Задание 2\n",
    "Дан поток дат в формате YYYY-MM-DD, в которых встречаются некорректные значения: stream = [‘2018-04-02’, ‘2018-02-29’, ‘2018-19-02’]\n",
    "\n",
    "Напишите функцию dates_check, которая проверяет эти даты на корректность. Т. е. для каждой даты поставляет значение True (дата корректна) или False (некорректная дата).\n",
    "\n",
    "Пример работы программы:\n",
    "\n",
    "stream = ['2018-04-02', '2018-02-29', '2018-19-02'] \n",
    "dates_check(stream)"
   ]
  },
  {
   "cell_type": "code",
   "execution_count": 5,
   "id": "f0d7e6fc",
   "metadata": {},
   "outputs": [
    {
     "name": "stdout",
     "output_type": "stream",
     "text": [
      "[True, False, False, False, False, True]\n"
     ]
    }
   ],
   "source": [
    "#Вариант 1, в функции выводится только статус в виде списка\n",
    "from datetime import datetime\n",
    "def date_check(stream):\n",
    "    try:\n",
    "        datetime.strptime(stream, '%Y-%m-%d') # проверка даты на корректность\n",
    "        return least.append(True) # добавление значения корректности даты\n",
    "    except:\n",
    "        return least.append(False)\n",
    "\n",
    "stream = ['2018-04-02', '2018-02-29', '2018-19-02','2018-02-29', '2018-02-29', '2020-02-29']\n",
    "\n",
    "least=[]\n",
    "for dt in stream:\n",
    "    date_check(dt)\n",
    "print(least)"
   ]
  },
  {
   "cell_type": "code",
   "execution_count": 6,
   "id": "4d79104c",
   "metadata": {},
   "outputs": [
    {
     "name": "stdout",
     "output_type": "stream",
     "text": [
      "дата \"2018-04-02\" корректна: \"True\"\n",
      "дата \"2018-02-29\" корректна: \"False\"\n",
      "дата \"2018-19-02\" корректна: \"False\"\n",
      "[True, False, False]\n"
     ]
    }
   ],
   "source": [
    "#Вариант 2, в функции выводится дата и статус даты, а также список с корректностью всех дат\n",
    "from datetime import datetime\n",
    "def date_check(stream):\n",
    "    try:\n",
    "        datetime.strptime(stream, '%Y-%m-%d')\n",
    "        return print(f'дата \"{stream}\" корректна: \"{True}\"'), least.append(True)\n",
    "    except:\n",
    "        return print(f'дата \"{stream}\" корректна: \"{False}\"'), least.append(False)\n",
    "\n",
    "stream = ['2018-04-02', '2018-02-29', '2018-19-02']\n",
    "least=[]\n",
    "for dt in stream:\n",
    "    date_check(dt)\n",
    "print(least)"
   ]
  },
  {
   "cell_type": "markdown",
   "id": "602dcbf2",
   "metadata": {},
   "source": [
    "## Задание 3 \n",
    "\n",
    "Напишите функцию, которая будет проверять номер сотового телефона на валидность, если он валиден, то переводить его в формат: +7-xxx-xxx-xx-xx Постарайтесь предусмотреть как можно больше адекватных форматов изначального ввода номера."
   ]
  },
  {
   "cell_type": "code",
   "execution_count": 4,
   "id": "1c64d6c6",
   "metadata": {},
   "outputs": [],
   "source": [
    "import re\n",
    "def val_number(mobile):\n",
    "        rendex=r'(8|\\+7|7)(\\s*)?(\\+)?([- _():=+]?\\d[- _():=+]?){10}(\\s*)?' \n",
    "        if re.search(rendex, val):\n",
    "            rendex_num='\\d'\n",
    "            number=re.findall(rendex_num, val)\n",
    "            print (\"phone = '\",val,\"'\",\"  Результат: \",'+7-({})-{}-{}-{}'.format(''.join(number[1:4]),''.join(number[4:7]),''.join(number[7:9]),''.join(number[8:10])))\n",
    "        else:\n",
    "            print(\"phone = '\",val,\"'\",\"Результат: Номер не валиден\")"
   ]
  },
  {
   "cell_type": "code",
   "execution_count": 5,
   "id": "19c97099",
   "metadata": {},
   "outputs": [
    {
     "name": "stdout",
     "output_type": "stream",
     "text": [
      "phone = ' +7 955 555-55-55 ' Результат: Номер не валиден\n",
      "phone = ' 8(955)555-55-55 ' Результат: Номер не валиден\n",
      "phone = ' +7 955 000 55 55 ' Результат: Номер не валиден\n",
      "phone = ' 8(555)15-55-55 ' Результат: Номер не валиден\n",
      "phone = ' 423-555-55-5555 ' Результат: Номер не валиден\n",
      "phone = ' 123-456-789 ' Результат: Номер не валиден\n",
      "phone = ' +7 985+555+85+55 ' Результат: Номер не валиден\n"
     ]
    }
   ],
   "source": [
    "import re\n",
    "numbers=['+7 955 555-55-55',\n",
    "    '8(955)555-55-55',\n",
    "    '+7 955 000 55 55',\n",
    "    '8(555)15-55-55',\n",
    "    '423-555-55-5555',\n",
    "    '123-456-789',\n",
    "    '+7 985+555+85+55']\n",
    "for val in numbers:\n",
    "    val_number(val)"
   ]
  },
  {
   "cell_type": "code",
   "execution_count": null,
   "id": "001eda81",
   "metadata": {},
   "outputs": [],
   "source": []
  }
 ],
 "metadata": {
  "kernelspec": {
   "display_name": "Python 3 (ipykernel)",
   "language": "python",
   "name": "python3"
  },
  "language_info": {
   "codemirror_mode": {
    "name": "ipython",
    "version": 3
   },
   "file_extension": ".py",
   "mimetype": "text/x-python",
   "name": "python",
   "nbconvert_exporter": "python",
   "pygments_lexer": "ipython3",
   "version": "3.9.12"
  }
 },
 "nbformat": 4,
 "nbformat_minor": 5
}
