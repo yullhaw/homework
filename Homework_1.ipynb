{
 "cells": [
  {
   "cell_type": "markdown",
   "id": "14905d66",
   "metadata": {},
   "source": [
    "Високосный год \n",
    "1. Делится на 4 нацело, то есть без остатка\n",
    "2. Не делится без остатка на 100 или делится без остатка не 400"
   ]
  },
  {
   "cell_type": "code",
   "execution_count": 44,
   "id": "8487ab6c",
   "metadata": {},
   "outputs": [
    {
     "name": "stdout",
     "output_type": "stream",
     "text": [
      "-404\n",
      "Високосный год\n"
     ]
    }
   ],
   "source": [
    "#Сначала проверка делится ли год на 4, если не делится, то год сразу не високосный\n",
    "year = int(input())\n",
    "if year % 4 != 0: \n",
    "    print(\"Обычный год\")\n",
    "elif  year % 100 != 0 or year % 400 == 0: \n",
    "    print('Високосный год')\n",
    "else:\n",
    "    print(\"Обычный год\")"
   ]
  },
  {
   "cell_type": "code",
   "execution_count": 497,
   "id": "d3d0895e",
   "metadata": {},
   "outputs": [
    {
     "name": "stdout",
     "output_type": "stream",
     "text": [
      "-586\n",
      "Обычный год\n"
     ]
    }
   ],
   "source": [
    "#проверка и делится ли год на 4 и не делится ли на 100 или делится на 400 без остатка\n",
    "year = int(input())\n",
    "if year % 4 == 0 and year % 100 != 0 or year % 400 == 0: \n",
    "    print('Високосный год')\n",
    "else:\n",
    "    print(\"Обычный год\")"
   ]
  },
  {
   "cell_type": "markdown",
   "id": "6007b9ca",
   "metadata": {},
   "source": [
    "Дана переменная, в которой хранится шестизначное число (номер проездного билета). Напишите программу, которая будет определять, является ли этот билет счастливым. Билет считается счастливым, если сумма первых трёх цифр совпадает с суммой последних трёх цифр номера.\n",
    "\n",
    "Примеры работы программы:\n",
    "\n",
    "number = 123456\n",
    "Результат:\n",
    "Несчастливый билет\n",
    "\n",
    "number = 123321\n",
    "Результат:\n",
    "Счастливый билет\n",
    "\n"
   ]
  },
  {
   "cell_type": "code",
   "execution_count": 500,
   "id": "948a7e05",
   "metadata": {},
   "outputs": [
    {
     "name": "stdout",
     "output_type": "stream",
     "text": [
      "339124\n",
      "Несчастливый билет\n"
     ]
    }
   ],
   "source": [
    "#Рандомный номер билета\n",
    "import random\n",
    "num = random.randrange(1, 10**6)\n",
    "ticket = (\"{:06.0f}\".format(num))\n",
    "print(ticket)\n",
    "leaf = list(ticket) # преобразуем число в список\n",
    "leaf_int = list(map(int, leaf)) # преобразуем цифры в списке в целое\n",
    "sum_left = sum(leaf_int[0:3]) # суммируем 3 левые числа\n",
    "sum_right = sum(leaf_int[3:6]) # суммируем 3 правые числа\n",
    "#print(sum_left) - для проверки\n",
    "#print(sum_right) - для проверки\n",
    "if sum_left == sum_right:\n",
    "    print ('Счастливый билет')\n",
    "else:\n",
    "    print ('Несчастливый билет') \n",
    "    "
   ]
  },
  {
   "cell_type": "code",
   "execution_count": 499,
   "id": "13c7337e",
   "metadata": {
    "scrolled": false
   },
   "outputs": [
    {
     "name": "stdout",
     "output_type": "stream",
     "text": [
      "Введите не более 6 цифр 153351\n",
      "Счастливый билет\n"
     ]
    }
   ],
   "source": [
    "#номер билета задаётся вводом\n",
    "ticket = (\"{:06.0f}\".format(int(input(\"Введите не более 6 цифр \"))))\n",
    "if len(ticket) > 6:\n",
    "    print(\"Ошибка, номер билета не существует\")\n",
    "else:\n",
    "    # print(ticket)\n",
    "    leaf = list(ticket) # преобразуем число в список\n",
    "    leaf_int = list(map(int, leaf)) # преобразуем цифры в списке в целое\n",
    "    sum_left = sum(leaf_int[0:3]) \n",
    "    sum_right = sum(leaf_int[3:6])\n",
    "    #print(sum_right)\n",
    "    #print(sum_left)\n",
    "    if sum_left == sum_right:\n",
    "        print ('Счастливый билет')\n",
    "    else:\n",
    "        print ('Несчастливый билет') "
   ]
  },
  {
   "cell_type": "code",
   "execution_count": null,
   "id": "a4fe3570",
   "metadata": {},
   "outputs": [],
   "source": [
    "\n"
   ]
  },
  {
   "cell_type": "code",
   "execution_count": null,
   "id": "c7602a53",
   "metadata": {},
   "outputs": [],
   "source": [
    "\n"
   ]
  },
  {
   "cell_type": "code",
   "execution_count": null,
   "id": "521f41d0",
   "metadata": {},
   "outputs": [],
   "source": []
  },
  {
   "cell_type": "code",
   "execution_count": null,
   "id": "51335249",
   "metadata": {},
   "outputs": [],
   "source": []
  },
  {
   "cell_type": "code",
   "execution_count": null,
   "id": "1ab9757d",
   "metadata": {},
   "outputs": [],
   "source": []
  },
  {
   "cell_type": "code",
   "execution_count": null,
   "id": "9862466a",
   "metadata": {},
   "outputs": [],
   "source": []
  },
  {
   "cell_type": "code",
   "execution_count": null,
   "id": "2dcaef01",
   "metadata": {},
   "outputs": [],
   "source": []
  }
 ],
 "metadata": {
  "kernelspec": {
   "display_name": "Python 3 (ipykernel)",
   "language": "python",
   "name": "python3"
  },
  "language_info": {
   "codemirror_mode": {
    "name": "ipython",
    "version": 3
   },
   "file_extension": ".py",
   "mimetype": "text/x-python",
   "name": "python",
   "nbconvert_exporter": "python",
   "pygments_lexer": "ipython3",
   "version": "3.9.12"
  }
 },
 "nbformat": 4,
 "nbformat_minor": 5
}
